{
  "cells": [
    {
      "cell_type": "markdown",
      "metadata": {
        "id": "view-in-github",
        "colab_type": "text"
      },
      "source": [
        "<a href=\"https://colab.research.google.com/github/hardymunjal/Mathematics-for-ML/blob/main/Lecture-1.ipynb\" target=\"_parent\"><img src=\"https://colab.research.google.com/assets/colab-badge.svg\" alt=\"Open In Colab\"/></a>"
      ]
    },
    {
      "cell_type": "markdown",
      "metadata": {
        "id": "X5bgFJSL0pJ4"
      },
      "source": [
        "# Lecture 1 - Vectors Recap"
      ]
    },
    {
      "cell_type": "code",
      "source": [
        "# Import Packages\n",
        "import numpy as np"
      ],
      "metadata": {
        "id": "ZvwL_c-V0uv7"
      },
      "execution_count": 1,
      "outputs": []
    },
    {
      "cell_type": "code",
      "source": [
        "# Initialise a vector\n",
        "v = np.array([1,-1,2])\n",
        "w = np.array([2, 5, 2])"
      ],
      "metadata": {
        "id": "DD36DluY1hZ9"
      },
      "execution_count": 2,
      "outputs": []
    },
    {
      "cell_type": "code",
      "source": [
        "# Addition of Vectors\n",
        "x = v + w\n",
        "print(x)"
      ],
      "metadata": {
        "id": "xXAB-eny1wDD",
        "outputId": "3b93b1fd-bf8c-42ae-d275-7edd707844c2",
        "colab": {
          "base_uri": "https://localhost:8080/"
        }
      },
      "execution_count": 3,
      "outputs": [
        {
          "output_type": "stream",
          "name": "stdout",
          "text": [
            "[3 4 4]\n"
          ]
        }
      ]
    },
    {
      "cell_type": "code",
      "source": [
        "# Subtraction of vectors\n",
        "x = v - w\n",
        "print(x)"
      ],
      "metadata": {
        "id": "Z-kpiN661050",
        "outputId": "961636ee-f9d4-4f52-915f-2edaff32d5ec",
        "colab": {
          "base_uri": "https://localhost:8080/"
        }
      },
      "execution_count": 4,
      "outputs": [
        {
          "output_type": "stream",
          "name": "stdout",
          "text": [
            "[-1 -6  0]\n"
          ]
        }
      ]
    },
    {
      "cell_type": "code",
      "source": [
        "# Scalar Multiplication\n",
        "x = 2 * v\n",
        "print(x)"
      ],
      "metadata": {
        "id": "pI36MLYm19HZ",
        "outputId": "ef54cc7f-d4d5-4fdb-b6ac-c0ac9261905f",
        "colab": {
          "base_uri": "https://localhost:8080/"
        }
      },
      "execution_count": 5,
      "outputs": [
        {
          "output_type": "stream",
          "name": "stdout",
          "text": [
            "[ 2 -2  4]\n"
          ]
        }
      ]
    },
    {
      "cell_type": "code",
      "source": [
        "# Get magnitude of vector\n",
        "mag_v = np.linalg.norm(v)\n",
        "print(mag_v)"
      ],
      "metadata": {
        "id": "YbUYDhds2C_x",
        "outputId": "757ffce3-a761-48db-e2a5-5e074f6e8c02",
        "colab": {
          "base_uri": "https://localhost:8080/"
        }
      },
      "execution_count": 6,
      "outputs": [
        {
          "output_type": "stream",
          "name": "stdout",
          "text": [
            "2.449489742783178\n"
          ]
        }
      ]
    },
    {
      "cell_type": "code",
      "source": [
        "# Dot Product\n",
        "x = np.dot(v, w) # returns scalar\n",
        "print(x)"
      ],
      "metadata": {
        "id": "6pfrdBLb2K7Z",
        "outputId": "6c1e967b-b15f-4f5b-ddd9-8e70e7424bc0",
        "colab": {
          "base_uri": "https://localhost:8080/"
        }
      },
      "execution_count": 7,
      "outputs": [
        {
          "output_type": "stream",
          "name": "stdout",
          "text": [
            "1\n"
          ]
        }
      ]
    }
  ],
  "metadata": {
    "language_info": {
      "name": "python"
    },
    "orig_nbformat": 4,
    "colab": {
      "name": "Lecture-1.ipynb",
      "provenance": [],
      "include_colab_link": true
    },
    "kernelspec": {
      "name": "python3",
      "display_name": "Python 3"
    },
    "gpuClass": "standard"
  },
  "nbformat": 4,
  "nbformat_minor": 0
}