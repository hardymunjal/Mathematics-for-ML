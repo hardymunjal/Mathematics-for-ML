{
  "cells": [
    {
      "cell_type": "markdown",
      "metadata": {
        "id": "view-in-github",
        "colab_type": "text"
      },
      "source": [
        "<a href=\"https://colab.research.google.com/github/hardymunjal/Mathematics-for-ML/blob/main/Week-1.ipynb\" target=\"_parent\"><img src=\"https://colab.research.google.com/assets/colab-badge.svg\" alt=\"Open In Colab\"/></a>"
      ]
    },
    {
      "cell_type": "markdown",
      "metadata": {
        "id": "X5bgFJSL0pJ4"
      },
      "source": [
        "## Lecture 1 - Vectors Recap"
      ]
    },
    {
      "cell_type": "code",
      "source": [
        "# Import Packages\n",
        "import numpy as np"
      ],
      "metadata": {
        "id": "ZvwL_c-V0uv7"
      },
      "execution_count": 1,
      "outputs": []
    },
    {
      "cell_type": "code",
      "source": [
        "# Initialise a vector\n",
        "v = np.array([1,-1,2])\n",
        "w = np.array([2, 5, 2])"
      ],
      "metadata": {
        "id": "DD36DluY1hZ9"
      },
      "execution_count": 2,
      "outputs": []
    },
    {
      "cell_type": "code",
      "source": [
        "# Addition of Vectors\n",
        "x = v + w\n",
        "print(x)"
      ],
      "metadata": {
        "id": "xXAB-eny1wDD",
        "outputId": "cf8919d9-2109-4515-d4a6-50e3c59565ee",
        "colab": {
          "base_uri": "https://localhost:8080/"
        }
      },
      "execution_count": 3,
      "outputs": [
        {
          "output_type": "stream",
          "name": "stdout",
          "text": [
            "[3 4 4]\n"
          ]
        }
      ]
    },
    {
      "cell_type": "code",
      "source": [
        "# Subtraction of vectors\n",
        "x = v - w\n",
        "print(x)"
      ],
      "metadata": {
        "id": "Z-kpiN661050",
        "outputId": "1b089e5c-b042-46af-a95d-8d5fee91ed44",
        "colab": {
          "base_uri": "https://localhost:8080/"
        }
      },
      "execution_count": 4,
      "outputs": [
        {
          "output_type": "stream",
          "name": "stdout",
          "text": [
            "[-1 -6  0]\n"
          ]
        }
      ]
    },
    {
      "cell_type": "code",
      "source": [
        "# Scalar Multiplication\n",
        "x = 2 * v\n",
        "print(x)"
      ],
      "metadata": {
        "id": "pI36MLYm19HZ",
        "outputId": "86389d14-4e95-4d3e-cb96-d7b7b00ec34a",
        "colab": {
          "base_uri": "https://localhost:8080/"
        }
      },
      "execution_count": 5,
      "outputs": [
        {
          "output_type": "stream",
          "name": "stdout",
          "text": [
            "[ 2 -2  4]\n"
          ]
        }
      ]
    },
    {
      "cell_type": "code",
      "source": [
        "# Get magnitude of vector\n",
        "mag_v = np.linalg.norm(v)\n",
        "print(mag_v)"
      ],
      "metadata": {
        "id": "YbUYDhds2C_x",
        "outputId": "fb8348f4-01c0-45db-f4ef-ce644125925d",
        "colab": {
          "base_uri": "https://localhost:8080/"
        }
      },
      "execution_count": 6,
      "outputs": [
        {
          "output_type": "stream",
          "name": "stdout",
          "text": [
            "2.449489742783178\n"
          ]
        }
      ]
    },
    {
      "cell_type": "code",
      "source": [
        "# Dot Product\n",
        "x = np.dot(v, w) # returns scalar\n",
        "print(x)"
      ],
      "metadata": {
        "id": "6pfrdBLb2K7Z",
        "outputId": "b00567ce-54d6-49dd-9ed5-fe9f7d9ef2b6",
        "colab": {
          "base_uri": "https://localhost:8080/"
        }
      },
      "execution_count": 7,
      "outputs": [
        {
          "output_type": "stream",
          "name": "stdout",
          "text": [
            "1\n"
          ]
        }
      ]
    },
    {
      "cell_type": "markdown",
      "source": [
        "## Lecture 2 - Matrix Recap"
      ],
      "metadata": {
        "id": "87-h5KYS6eom"
      }
    },
    {
      "cell_type": "code",
      "source": [
        "# Initialize Matrix\n",
        "V = np.array([[1,2], [2,3],[4,5]])\n",
        "print(V)"
      ],
      "metadata": {
        "id": "QycUFT_O6kez",
        "outputId": "1e71ba30-92f8-4018-d1ca-579a107d72c8",
        "colab": {
          "base_uri": "https://localhost:8080/"
        }
      },
      "execution_count": 9,
      "outputs": [
        {
          "output_type": "stream",
          "name": "stdout",
          "text": [
            "[[1 2]\n",
            " [2 3]\n",
            " [4 5]]\n"
          ]
        }
      ]
    },
    {
      "cell_type": "code",
      "source": [
        "W = np.array([[8,9], [6,7],[1,3]])\n",
        "print(W)"
      ],
      "metadata": {
        "id": "5UqyBJZM6zTW",
        "outputId": "071a2c63-2820-4604-bff0-dec2917c02db",
        "colab": {
          "base_uri": "https://localhost:8080/"
        }
      },
      "execution_count": 10,
      "outputs": [
        {
          "output_type": "stream",
          "name": "stdout",
          "text": [
            "[[8 9]\n",
            " [6 7]\n",
            " [1 3]]\n"
          ]
        }
      ]
    },
    {
      "cell_type": "code",
      "source": [
        "# Add two matrix\n",
        "X = np.add(V, W)\n",
        "print(X)"
      ],
      "metadata": {
        "id": "4svckEeY685m",
        "outputId": "108c1ddf-712e-48f2-f92c-59c03ce2b5ff",
        "colab": {
          "base_uri": "https://localhost:8080/"
        }
      },
      "execution_count": 11,
      "outputs": [
        {
          "output_type": "stream",
          "name": "stdout",
          "text": [
            "[[ 9 11]\n",
            " [ 8 10]\n",
            " [ 5  8]]\n"
          ]
        }
      ]
    },
    {
      "cell_type": "code",
      "source": [
        "# Subtract two matrix\n",
        "X = np.subtract(V, W)\n",
        "print(X)"
      ],
      "metadata": {
        "id": "470DMFyK7Exu",
        "outputId": "37683b17-ac20-47e0-dca4-691af0906bbe",
        "colab": {
          "base_uri": "https://localhost:8080/"
        }
      },
      "execution_count": 12,
      "outputs": [
        {
          "output_type": "stream",
          "name": "stdout",
          "text": [
            "[[-7 -7]\n",
            " [-4 -4]\n",
            " [ 3  2]]\n"
          ]
        }
      ]
    },
    {
      "cell_type": "code",
      "source": [
        "# Vector Multiplication\n",
        "P = np.array([[1, 4, 1], [4, 5, 6]])\n",
        "R = np.array([[1,2], [3,4], [5,6]])\n",
        "X = np.dot(P, R)\n",
        "print(X)"
      ],
      "metadata": {
        "id": "OQU5vVDa7KNw",
        "outputId": "b1182079-5e55-4965-a7e3-e0e1277d8b39",
        "colab": {
          "base_uri": "https://localhost:8080/"
        }
      },
      "execution_count": 14,
      "outputs": [
        {
          "output_type": "stream",
          "name": "stdout",
          "text": [
            "[[18 24]\n",
            " [49 64]]\n"
          ]
        }
      ]
    },
    {
      "cell_type": "code",
      "source": [
        "# Calculate determinant\n",
        "det_X = np.linalg.det(X)\n",
        "print(det_X)"
      ],
      "metadata": {
        "id": "OZWpeYAF7fcX",
        "outputId": "7810dff1-ab49-4d8d-935e-0229680429af",
        "colab": {
          "base_uri": "https://localhost:8080/"
        }
      },
      "execution_count": 17,
      "outputs": [
        {
          "output_type": "stream",
          "name": "stdout",
          "text": [
            "-24.00000000000011\n"
          ]
        }
      ]
    },
    {
      "cell_type": "code",
      "source": [
        "# Calculate Inverse\n",
        "inv_X = np.linalg.inv(X)\n",
        "print(inv_X)"
      ],
      "metadata": {
        "id": "z-5bqb307qMS",
        "outputId": "5a267f67-941c-482f-fd76-9e9665e470af",
        "colab": {
          "base_uri": "https://localhost:8080/"
        }
      },
      "execution_count": 19,
      "outputs": [
        {
          "output_type": "stream",
          "name": "stdout",
          "text": [
            "[[-2.66666667  1.        ]\n",
            " [ 2.04166667 -0.75      ]]\n"
          ]
        }
      ]
    },
    {
      "cell_type": "code",
      "source": [
        ""
      ],
      "metadata": {
        "id": "uoiaVAqb79DI"
      },
      "execution_count": null,
      "outputs": []
    }
  ],
  "metadata": {
    "language_info": {
      "name": "python"
    },
    "orig_nbformat": 4,
    "colab": {
      "name": "Lecture-1.ipynb",
      "provenance": [],
      "include_colab_link": true
    },
    "kernelspec": {
      "name": "python3",
      "display_name": "Python 3"
    },
    "gpuClass": "standard"
  },
  "nbformat": 4,
  "nbformat_minor": 0
}